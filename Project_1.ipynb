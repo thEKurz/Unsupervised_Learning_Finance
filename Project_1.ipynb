{
 "cells": [
  {
   "cell_type": "code",
   "execution_count": 1,
   "outputs": [
    {
     "name": "stdout",
     "output_type": "stream",
     "text": [
      "Requirement already satisfied: yfinance in c:\\users\\evank\\anaconda3\\lib\\site-packages (0.1.70)\n",
      "Requirement already satisfied: pandas>=0.24.0 in c:\\users\\evank\\anaconda3\\lib\\site-packages (from yfinance) (1.4.2)\n",
      "Requirement already satisfied: numpy>=1.15 in c:\\users\\evank\\anaconda3\\lib\\site-packages (from yfinance) (1.19.5)\n",
      "Requirement already satisfied: multitasking>=0.0.7 in c:\\users\\evank\\anaconda3\\lib\\site-packages (from yfinance) (0.0.10)\n",
      "Requirement already satisfied: lxml>=4.5.1 in c:\\users\\evank\\anaconda3\\lib\\site-packages (from yfinance) (4.8.0)\n",
      "Requirement already satisfied: requests>=2.26 in c:\\users\\evank\\anaconda3\\lib\\site-packages (from yfinance) (2.27.1)\n",
      "Requirement already satisfied: pytz>=2020.1 in c:\\users\\evank\\anaconda3\\lib\\site-packages (from pandas>=0.24.0->yfinance) (2021.3)\n",
      "Requirement already satisfied: python-dateutil>=2.8.1 in c:\\users\\evank\\anaconda3\\lib\\site-packages (from pandas>=0.24.0->yfinance) (2.8.2)\n",
      "Requirement already satisfied: six>=1.5 in c:\\users\\evank\\anaconda3\\lib\\site-packages (from python-dateutil>=2.8.1->pandas>=0.24.0->yfinance) (1.15.0)\n",
      "Requirement already satisfied: urllib3<1.27,>=1.21.1 in c:\\users\\evank\\anaconda3\\lib\\site-packages (from requests>=2.26->yfinance) (1.26.9)\n",
      "Requirement already satisfied: charset-normalizer~=2.0.0 in c:\\users\\evank\\anaconda3\\lib\\site-packages (from requests>=2.26->yfinance) (2.0.4)\n",
      "Requirement already satisfied: certifi>=2017.4.17 in c:\\users\\evank\\anaconda3\\lib\\site-packages (from requests>=2.26->yfinance) (2022.6.15)\n",
      "Requirement already satisfied: idna<4,>=2.5 in c:\\users\\evank\\anaconda3\\lib\\site-packages (from requests>=2.26->yfinance) (3.3)\n"
     ]
    }
   ],
   "source": [
    "import numpy as np\n",
    "import pandas as pd\n",
    "import datetime\n",
    "import matplotlib.pyplot as plt\n",
    "import yfinance as yf"
   ],
   "metadata": {
    "collapsed": false,
    "pycharm": {
     "name": "#%%\n"
    }
   }
  },
  {
   "cell_type": "code",
   "execution_count": 2,
   "outputs": [
    {
     "name": "stdout",
     "output_type": "stream",
     "text": [
      "[*********************100%***********************]  10 of 10 completed\n"
     ]
    },
    {
     "data": {
      "text/plain": "                 XLB       XLC       XLE       XLF       XLI       XLK  \\\nDate                                                                     \n2022-09-13 -0.035660 -0.054910 -0.025219 -0.037240 -0.037659 -0.053085   \n2022-09-14 -0.012239  0.001703  0.028246 -0.002998 -0.001951  0.003636   \n2022-09-15 -0.013189 -0.004345 -0.025769  0.003308 -0.010427 -0.023022   \n2022-09-16 -0.015796 -0.010626 -0.021335 -0.008993 -0.020854 -0.005563   \n2022-09-19  0.016554  0.005766  0.000593  0.011342  0.013572  0.008155   \n\n                 XLP       XLU       XLV       XLY  \nDate                                                \n2022-09-13 -0.033392 -0.026626 -0.033036 -0.051561  \n2022-09-14 -0.000418  0.008154  0.000551  0.012847  \n2022-09-15 -0.008361 -0.024915  0.005586 -0.005124  \n2022-09-16  0.002389 -0.003746 -0.002817 -0.008039  \n2022-09-19  0.006646  0.013397 -0.005388  0.014149  ",
      "text/html": "<div>\n<style scoped>\n    .dataframe tbody tr th:only-of-type {\n        vertical-align: middle;\n    }\n\n    .dataframe tbody tr th {\n        vertical-align: top;\n    }\n\n    .dataframe thead th {\n        text-align: right;\n    }\n</style>\n<table border=\"1\" class=\"dataframe\">\n  <thead>\n    <tr style=\"text-align: right;\">\n      <th></th>\n      <th>XLB</th>\n      <th>XLC</th>\n      <th>XLE</th>\n      <th>XLF</th>\n      <th>XLI</th>\n      <th>XLK</th>\n      <th>XLP</th>\n      <th>XLU</th>\n      <th>XLV</th>\n      <th>XLY</th>\n    </tr>\n    <tr>\n      <th>Date</th>\n      <th></th>\n      <th></th>\n      <th></th>\n      <th></th>\n      <th></th>\n      <th></th>\n      <th></th>\n      <th></th>\n      <th></th>\n      <th></th>\n    </tr>\n  </thead>\n  <tbody>\n    <tr>\n      <th>2022-09-13</th>\n      <td>-0.035660</td>\n      <td>-0.054910</td>\n      <td>-0.025219</td>\n      <td>-0.037240</td>\n      <td>-0.037659</td>\n      <td>-0.053085</td>\n      <td>-0.033392</td>\n      <td>-0.026626</td>\n      <td>-0.033036</td>\n      <td>-0.051561</td>\n    </tr>\n    <tr>\n      <th>2022-09-14</th>\n      <td>-0.012239</td>\n      <td>0.001703</td>\n      <td>0.028246</td>\n      <td>-0.002998</td>\n      <td>-0.001951</td>\n      <td>0.003636</td>\n      <td>-0.000418</td>\n      <td>0.008154</td>\n      <td>0.000551</td>\n      <td>0.012847</td>\n    </tr>\n    <tr>\n      <th>2022-09-15</th>\n      <td>-0.013189</td>\n      <td>-0.004345</td>\n      <td>-0.025769</td>\n      <td>0.003308</td>\n      <td>-0.010427</td>\n      <td>-0.023022</td>\n      <td>-0.008361</td>\n      <td>-0.024915</td>\n      <td>0.005586</td>\n      <td>-0.005124</td>\n    </tr>\n    <tr>\n      <th>2022-09-16</th>\n      <td>-0.015796</td>\n      <td>-0.010626</td>\n      <td>-0.021335</td>\n      <td>-0.008993</td>\n      <td>-0.020854</td>\n      <td>-0.005563</td>\n      <td>0.002389</td>\n      <td>-0.003746</td>\n      <td>-0.002817</td>\n      <td>-0.008039</td>\n    </tr>\n    <tr>\n      <th>2022-09-19</th>\n      <td>0.016554</td>\n      <td>0.005766</td>\n      <td>0.000593</td>\n      <td>0.011342</td>\n      <td>0.013572</td>\n      <td>0.008155</td>\n      <td>0.006646</td>\n      <td>0.013397</td>\n      <td>-0.005388</td>\n      <td>0.014149</td>\n    </tr>\n  </tbody>\n</table>\n</div>"
     },
     "execution_count": 2,
     "metadata": {},
     "output_type": "execute_result"
    }
   ],
   "source": [
    "tickers=[\"XLC\",\"XLY\",\"XLP\",\"XLE\",\"XLF\",\"XLV\",\"XLI\",\"XLB\",\"XLK\",\"XLU\"]\n",
    "start = datetime.datetime(2019, 9, 20)\n",
    "end = datetime.datetime(2022, 9, 20)\n",
    "df = yf.download(tickers, start=start, end=end)\n",
    "prices=df['Adj Close'].pct_change().dropna()\n",
    "prices.tail()"
   ],
   "metadata": {
    "collapsed": false,
    "pycharm": {
     "name": "#%%\n"
    }
   }
  },
  {
   "cell_type": "code",
   "execution_count": 3,
   "outputs": [
    {
     "data": {
      "text/plain": "         mean       std  skewness   kurtosis  1st percent  10th percent  \\\nXLB  0.000539  0.017162 -0.375843   8.634431    -0.046367     -0.016781   \nXLC  0.000215  0.016633 -0.603378   6.289608    -0.044141     -0.018234   \nXLE  0.000924  0.027076 -0.443184   8.958290    -0.061846     -0.027904   \nXLF  0.000499  0.019534 -0.194007  11.222741    -0.051051     -0.019266   \nXLI  0.000405  0.017005 -0.299291  11.208370    -0.046887     -0.015789   \nXLK  0.000860  0.019224 -0.289527   7.905922    -0.047862     -0.020702   \nXLP  0.000404  0.012312 -0.202416  14.866758    -0.035517     -0.011032   \nXLU  0.000471  0.016286  0.232158  15.078791    -0.047996     -0.013694   \nXLV  0.000582  0.013482 -0.202544   9.821442    -0.037212     -0.012077   \nXLY  0.000571  0.017812 -0.772882   6.868442    -0.051945     -0.019113   \n\n     25th percent  50th percent  75th percent  90th percent  99th percent  \nXLB     -0.007589      0.000874      0.009334      0.018127      0.042931  \nXLC     -0.007372      0.001115      0.008300      0.017813      0.042662  \nXLE     -0.011789      0.000592      0.014736      0.030709      0.072260  \nXLF     -0.008271      0.000678      0.010234      0.018831      0.053113  \nXLI     -0.006690      0.001082      0.008000      0.016724      0.046479  \nXLK     -0.008286      0.001455      0.010713      0.020092      0.043351  \nXLP     -0.003858      0.000691      0.005603      0.010632      0.038083  \nXLU     -0.006515      0.001036      0.007500      0.013739      0.050594  \nXLV     -0.005079      0.000892      0.006821      0.013298      0.045532  \nXLY     -0.006363      0.001518      0.009540      0.018940      0.038935  ",
      "text/html": "<div>\n<style scoped>\n    .dataframe tbody tr th:only-of-type {\n        vertical-align: middle;\n    }\n\n    .dataframe tbody tr th {\n        vertical-align: top;\n    }\n\n    .dataframe thead th {\n        text-align: right;\n    }\n</style>\n<table border=\"1\" class=\"dataframe\">\n  <thead>\n    <tr style=\"text-align: right;\">\n      <th></th>\n      <th>mean</th>\n      <th>std</th>\n      <th>skewness</th>\n      <th>kurtosis</th>\n      <th>1st percent</th>\n      <th>10th percent</th>\n      <th>25th percent</th>\n      <th>50th percent</th>\n      <th>75th percent</th>\n      <th>90th percent</th>\n      <th>99th percent</th>\n    </tr>\n  </thead>\n  <tbody>\n    <tr>\n      <th>XLB</th>\n      <td>0.000539</td>\n      <td>0.017162</td>\n      <td>-0.375843</td>\n      <td>8.634431</td>\n      <td>-0.046367</td>\n      <td>-0.016781</td>\n      <td>-0.007589</td>\n      <td>0.000874</td>\n      <td>0.009334</td>\n      <td>0.018127</td>\n      <td>0.042931</td>\n    </tr>\n    <tr>\n      <th>XLC</th>\n      <td>0.000215</td>\n      <td>0.016633</td>\n      <td>-0.603378</td>\n      <td>6.289608</td>\n      <td>-0.044141</td>\n      <td>-0.018234</td>\n      <td>-0.007372</td>\n      <td>0.001115</td>\n      <td>0.008300</td>\n      <td>0.017813</td>\n      <td>0.042662</td>\n    </tr>\n    <tr>\n      <th>XLE</th>\n      <td>0.000924</td>\n      <td>0.027076</td>\n      <td>-0.443184</td>\n      <td>8.958290</td>\n      <td>-0.061846</td>\n      <td>-0.027904</td>\n      <td>-0.011789</td>\n      <td>0.000592</td>\n      <td>0.014736</td>\n      <td>0.030709</td>\n      <td>0.072260</td>\n    </tr>\n    <tr>\n      <th>XLF</th>\n      <td>0.000499</td>\n      <td>0.019534</td>\n      <td>-0.194007</td>\n      <td>11.222741</td>\n      <td>-0.051051</td>\n      <td>-0.019266</td>\n      <td>-0.008271</td>\n      <td>0.000678</td>\n      <td>0.010234</td>\n      <td>0.018831</td>\n      <td>0.053113</td>\n    </tr>\n    <tr>\n      <th>XLI</th>\n      <td>0.000405</td>\n      <td>0.017005</td>\n      <td>-0.299291</td>\n      <td>11.208370</td>\n      <td>-0.046887</td>\n      <td>-0.015789</td>\n      <td>-0.006690</td>\n      <td>0.001082</td>\n      <td>0.008000</td>\n      <td>0.016724</td>\n      <td>0.046479</td>\n    </tr>\n    <tr>\n      <th>XLK</th>\n      <td>0.000860</td>\n      <td>0.019224</td>\n      <td>-0.289527</td>\n      <td>7.905922</td>\n      <td>-0.047862</td>\n      <td>-0.020702</td>\n      <td>-0.008286</td>\n      <td>0.001455</td>\n      <td>0.010713</td>\n      <td>0.020092</td>\n      <td>0.043351</td>\n    </tr>\n    <tr>\n      <th>XLP</th>\n      <td>0.000404</td>\n      <td>0.012312</td>\n      <td>-0.202416</td>\n      <td>14.866758</td>\n      <td>-0.035517</td>\n      <td>-0.011032</td>\n      <td>-0.003858</td>\n      <td>0.000691</td>\n      <td>0.005603</td>\n      <td>0.010632</td>\n      <td>0.038083</td>\n    </tr>\n    <tr>\n      <th>XLU</th>\n      <td>0.000471</td>\n      <td>0.016286</td>\n      <td>0.232158</td>\n      <td>15.078791</td>\n      <td>-0.047996</td>\n      <td>-0.013694</td>\n      <td>-0.006515</td>\n      <td>0.001036</td>\n      <td>0.007500</td>\n      <td>0.013739</td>\n      <td>0.050594</td>\n    </tr>\n    <tr>\n      <th>XLV</th>\n      <td>0.000582</td>\n      <td>0.013482</td>\n      <td>-0.202544</td>\n      <td>9.821442</td>\n      <td>-0.037212</td>\n      <td>-0.012077</td>\n      <td>-0.005079</td>\n      <td>0.000892</td>\n      <td>0.006821</td>\n      <td>0.013298</td>\n      <td>0.045532</td>\n    </tr>\n    <tr>\n      <th>XLY</th>\n      <td>0.000571</td>\n      <td>0.017812</td>\n      <td>-0.772882</td>\n      <td>6.868442</td>\n      <td>-0.051945</td>\n      <td>-0.019113</td>\n      <td>-0.006363</td>\n      <td>0.001518</td>\n      <td>0.009540</td>\n      <td>0.018940</td>\n      <td>0.038935</td>\n    </tr>\n  </tbody>\n</table>\n</div>"
     },
     "execution_count": 3,
     "metadata": {},
     "output_type": "execute_result"
    }
   ],
   "source": [
    "stats_df = pd.DataFrame()\n",
    "stats_df.index=prices.columns\n",
    "stats_df['mean']= prices.mean()\n",
    "stats_df['std'] = prices.std()\n",
    "stats_df['skewness'] = prices.skew()\n",
    "stats_df['kurtosis'] = prices.kurtosis()\n",
    "stats_df['1st percent'] = prices.quantile(.01)\n",
    "stats_df['10th percent'] = prices.quantile(.10)\n",
    "stats_df['25th percent'] = prices.quantile(.25)\n",
    "stats_df['50th percent'] = prices.quantile(.5)\n",
    "stats_df['75th percent'] = prices.quantile(.75)\n",
    "stats_df['90th percent'] = prices.quantile(.90)\n",
    "stats_df['99th percent'] = prices.quantile(.99)\n",
    "stats_df"
   ],
   "metadata": {
    "collapsed": false,
    "pycharm": {
     "name": "#%%\n"
    }
   }
  },
  {
   "cell_type": "code",
   "execution_count": 4,
   "outputs": [],
   "source": [
    "u, s, vh = np.linalg.svd(prices)"
   ],
   "metadata": {
    "collapsed": false,
    "pycharm": {
     "name": "#%%\n"
    }
   }
  },
  {
   "cell_type": "code",
   "execution_count": 5,
   "outputs": [
    {
     "data": {
      "text/plain": "[<matplotlib.lines.Line2D at 0x2177e302f10>]"
     },
     "execution_count": 5,
     "metadata": {},
     "output_type": "execute_result"
    },
    {
     "data": {
      "text/plain": "<Figure size 432x288 with 1 Axes>",
      "image/png": "[encoded data removed]"
     },
     "metadata": {
      "needs_background": "light"
     },
     "output_type": "display_data"
    }
   ],
   "source": [
    "plt.plot(s)"
   ],
   "metadata": {
    "collapsed": false,
    "pycharm": {
     "name": "#%%\n"
    }
   }
  },
  {
   "cell_type": "code",
   "execution_count": 6,
   "outputs": [
    {
     "name": "stdout",
     "output_type": "stream",
     "text": [
      "        XLC       XLY       XLP       XLE       XLF       XLV       XLI  \\\n",
      "0  0.106457  0.091416  0.142431  0.121030  0.107402  0.109286  0.064890   \n",
      "1 -0.038036  0.641185 -1.687051 -0.213637 -0.063872  0.802995  0.323053   \n",
      "2  0.221557 -0.887002 -0.459862  0.207266  0.268328 -0.841617  0.945158   \n",
      "\n",
      "        XLB       XLK       XLU  \n",
      "0  0.079918  0.074794  0.102376  \n",
      "1  0.291898  0.369645  0.573818  \n",
      "2  1.906680  0.570321 -0.930829  \n"
     ]
    }
   ],
   "source": [
    "port_1 = vh[0]/sum(vh[0])\n",
    "port_2 = vh[1]/sum(vh[1])\n",
    "port_3 = vh[2]/sum(vh[2])\n",
    "\n",
    "port_df = pd.DataFrame([port_1,port_2,port_3])\n",
    "port_df.columns = tickers\n",
    "\n",
    "print(port_df)"
   ],
   "metadata": {
    "collapsed": false,
    "pycharm": {
     "name": "#%%\n"
    }
   }
  },
  {
   "cell_type": "markdown",
   "source": [
    "The first eigenportfolio is pretty fairly weighted in each ETF, which was the goal of choosing these ETFs. This appears to be explaining a good deal of the variance in the market. The second Portfolio is heavily short materials and energy while taking big positions everywhre else. So this portfolio is short commodities and long everything else besides communications services, which has some volatile growth stocks. This portfolio may be avoiding the most volatile sectors. The third portfolio is heavily short a few sectors and double long the materials sector."
   ],
   "metadata": {
    "collapsed": false,
    "pycharm": {
     "name": "#%% md\n"
    }
   }
  },
  {
   "cell_type": "code",
   "execution_count": 7,
   "outputs": [
    {
     "data": {
      "text/plain": "                   0         1         2\nDate                                    \n2019-09-23  0.000088 -0.008883 -0.005450\n2019-09-24 -0.006516 -0.017798 -0.032079\n2019-09-25  0.004368  0.007183  0.024194\n2019-09-26 -0.002785 -0.009945 -0.007390\n2019-09-27 -0.003606 -0.012750 -0.007454",
      "text/html": "<div>\n<style scoped>\n    .dataframe tbody tr th:only-of-type {\n        vertical-align: middle;\n    }\n\n    .dataframe tbody tr th {\n        vertical-align: top;\n    }\n\n    .dataframe thead th {\n        text-align: right;\n    }\n</style>\n<table border=\"1\" class=\"dataframe\">\n  <thead>\n    <tr style=\"text-align: right;\">\n      <th></th>\n      <th>0</th>\n      <th>1</th>\n      <th>2</th>\n    </tr>\n    <tr>\n      <th>Date</th>\n      <th></th>\n      <th></th>\n      <th></th>\n    </tr>\n  </thead>\n  <tbody>\n    <tr>\n      <th>2019-09-23</th>\n      <td>0.000088</td>\n      <td>-0.008883</td>\n      <td>-0.005450</td>\n    </tr>\n    <tr>\n      <th>2019-09-24</th>\n      <td>-0.006516</td>\n      <td>-0.017798</td>\n      <td>-0.032079</td>\n    </tr>\n    <tr>\n      <th>2019-09-25</th>\n      <td>0.004368</td>\n      <td>0.007183</td>\n      <td>0.024194</td>\n    </tr>\n    <tr>\n      <th>2019-09-26</th>\n      <td>-0.002785</td>\n      <td>-0.009945</td>\n      <td>-0.007390</td>\n    </tr>\n    <tr>\n      <th>2019-09-27</th>\n      <td>-0.003606</td>\n      <td>-0.012750</td>\n      <td>-0.007454</td>\n    </tr>\n  </tbody>\n</table>\n</div>"
     },
     "execution_count": 7,
     "metadata": {},
     "output_type": "execute_result"
    }
   ],
   "source": [
    "port_returns = prices@port_df.T\n",
    "port_returns.head()"
   ],
   "metadata": {
    "collapsed": false,
    "pycharm": {
     "name": "#%%\n"
    }
   }
  },
  {
   "cell_type": "code",
   "execution_count": 8,
   "outputs": [
    {
     "name": "stdout",
     "output_type": "stream",
     "text": [
      "0    0.136973\n",
      "1    0.199466\n",
      "2    0.164962\n",
      "dtype: float64\n"
     ]
    }
   ],
   "source": [
    "annual_returns = port_returns.mean()*252\n",
    "print(annual_returns)"
   ],
   "metadata": {
    "collapsed": false,
    "pycharm": {
     "name": "#%%\n"
    }
   }
  },
  {
   "cell_type": "code",
   "execution_count": 9,
   "outputs": [
    {
     "name": "stdout",
     "output_type": "stream",
     "text": [
      "0    0.235520\n",
      "1    0.380551\n",
      "2    0.585273\n",
      "dtype: float64\n"
     ]
    }
   ],
   "source": [
    "annual_stds = port_returns.std()*np.sqrt(252)\n",
    "print(annual_stds)"
   ],
   "metadata": {
    "collapsed": false,
    "pycharm": {
     "name": "#%%\n"
    }
   }
  },
  {
   "cell_type": "code",
   "execution_count": 10,
   "outputs": [
    {
     "name": "stdout",
     "output_type": "stream",
     "text": [
      "0    0.581576\n",
      "1    0.524151\n",
      "2    0.281855\n",
      "dtype: float64\n"
     ]
    }
   ],
   "source": [
    "annual_sharpes = annual_returns/annual_stds\n",
    "print(annual_sharpes)"
   ],
   "metadata": {
    "collapsed": false,
    "pycharm": {
     "name": "#%%\n"
    }
   }
  },
  {
   "cell_type": "code",
   "execution_count": 11,
   "outputs": [
    {
     "data": {
      "text/plain": "<AxesSubplot:xlabel='Date'>"
     },
     "execution_count": 11,
     "metadata": {},
     "output_type": "execute_result"
    },
    {
     "data": {
      "text/plain": "<Figure size 432x288 with 1 Axes>",
      "image/png": "[encoded data removed]"
     },
     "metadata": {
      "needs_background": "light"
     },
     "output_type": "display_data"
    }
   ],
   "source": [
    "(port_returns+1).cumprod().plot()"
   ],
   "metadata": {
    "collapsed": false,
    "pycharm": {
     "name": "#%%\n"
    }
   }
  },
  {
   "cell_type": "code",
   "execution_count": 12,
   "outputs": [
    {
     "data": {
      "text/plain": "                   0         1         2\nDate                                    \n2019-09-23  1.000088  0.991117  0.994550\n2019-09-24  0.993572  0.973477  0.962646\n2019-09-25  0.997911  0.980469  0.985936\n2019-09-26  0.995132  0.970718  0.978650\n2019-09-27  0.991544  0.958342  0.971356\n...              ...       ...       ...\n2022-09-13  1.395454  1.480318  1.067083\n2022-09-14  1.401670  1.488159  1.027671\n2022-09-15  1.387264  1.474379  1.000264\n2022-09-16  1.375060  1.442733  0.949950\n2022-09-19  1.385703  1.460597  0.978395\n\n[754 rows x 3 columns]",
      "text/html": "<div>\n<style scoped>\n    .dataframe tbody tr th:only-of-type {\n        vertical-align: middle;\n    }\n\n    .dataframe tbody tr th {\n        vertical-align: top;\n    }\n\n    .dataframe thead th {\n        text-align: right;\n    }\n</style>\n<table border=\"1\" class=\"dataframe\">\n  <thead>\n    <tr style=\"text-align: right;\">\n      <th></th>\n      <th>0</th>\n      <th>1</th>\n      <th>2</th>\n    </tr>\n    <tr>\n      <th>Date</th>\n      <th></th>\n      <th></th>\n      <th></th>\n    </tr>\n  </thead>\n  <tbody>\n    <tr>\n      <th>2019-09-23</th>\n      <td>1.000088</td>\n      <td>0.991117</td>\n      <td>0.994550</td>\n    </tr>\n    <tr>\n      <th>2019-09-24</th>\n      <td>0.993572</td>\n      <td>0.973477</td>\n      <td>0.962646</td>\n    </tr>\n    <tr>\n      <th>2019-09-25</th>\n      <td>0.997911</td>\n      <td>0.980469</td>\n      <td>0.985936</td>\n    </tr>\n    <tr>\n      <th>2019-09-26</th>\n      <td>0.995132</td>\n      <td>0.970718</td>\n      <td>0.978650</td>\n    </tr>\n    <tr>\n      <th>2019-09-27</th>\n      <td>0.991544</td>\n      <td>0.958342</td>\n      <td>0.971356</td>\n    </tr>\n    <tr>\n      <th>...</th>\n      <td>...</td>\n      <td>...</td>\n      <td>...</td>\n    </tr>\n    <tr>\n      <th>2022-09-13</th>\n      <td>1.395454</td>\n      <td>1.480318</td>\n      <td>1.067083</td>\n    </tr>\n    <tr>\n      <th>2022-09-14</th>\n      <td>1.401670</td>\n      <td>1.488159</td>\n      <td>1.027671</td>\n    </tr>\n    <tr>\n      <th>2022-09-15</th>\n      <td>1.387264</td>\n      <td>1.474379</td>\n      <td>1.000264</td>\n    </tr>\n    <tr>\n      <th>2022-09-16</th>\n      <td>1.375060</td>\n      <td>1.442733</td>\n      <td>0.949950</td>\n    </tr>\n    <tr>\n      <th>2022-09-19</th>\n      <td>1.385703</td>\n      <td>1.460597</td>\n      <td>0.978395</td>\n    </tr>\n  </tbody>\n</table>\n<p>754 rows × 3 columns</p>\n</div>"
     },
     "execution_count": 12,
     "metadata": {},
     "output_type": "execute_result"
    }
   ],
   "source": [
    "pnl = (port_returns+1).cumprod()\n",
    "pnl"
   ],
   "metadata": {
    "collapsed": false,
    "pycharm": {
     "name": "#%%\n"
    }
   }
  },
  {
   "cell_type": "markdown",
   "source": [
    "The annual returns do not resemble the order of the eigenvectors. The volatility of the portfolios goes up with the order as the portfolios get more concentrated and lose the benefits of diversification. Due to this the Sharpe Ratio for each portfolio goes down. So the order definitely seems to correlate to risk adjusted returns of the portfolios."
   ],
   "metadata": {
    "collapsed": false,
    "pycharm": {
     "name": "#%% md\n"
    }
   }
  },
  {
   "cell_type": "code",
   "execution_count": null,
   "outputs": [],
   "source": [],
   "metadata": {
    "collapsed": false,
    "pycharm": {
     "name": "#%%\n"
    }
   }
  }
 ],
 "metadata": {
  "kernelspec": {
   "display_name": "Python 3",
   "language": "python",
   "name": "python3"
  },
  "language_info": {
   "codemirror_mode": {
    "name": "ipython",
    "version": 2
   },
   "file_extension": ".py",
   "mimetype": "text/x-python",
   "name": "python",
   "nbconvert_exporter": "python",
   "pygments_lexer": "ipython2",
   "version": "2.7.6"
  }
 },
 "nbformat": 4,
 "nbformat_minor": 0
}